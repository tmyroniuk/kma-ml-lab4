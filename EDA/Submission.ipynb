{
 "cells": [
  {
   "cell_type": "code",
   "execution_count": 8,
   "metadata": {},
   "outputs": [],
   "source": [
    "import pickle\n",
    "import sys\n",
    "\n",
    "import pandas as pd\n",
    "import xgboost as xgb\n",
    "\n",
    "sys.path.append('../src/')\n",
    "from config import *\n",
    "from preprocessing import *"
   ]
  },
  {
   "cell_type": "code",
   "execution_count": 2,
   "metadata": {},
   "outputs": [],
   "source": [
    "data = pd.read_csv(f'../{test_file}')\n",
    "label_names = ['toxic', 'severe_toxic', 'obscene', 'threat', 'insult', 'identity_hate']"
   ]
  },
  {
   "cell_type": "code",
   "execution_count": 3,
   "metadata": {},
   "outputs": [],
   "source": [
    "class Preprocessor:\n",
    "    def __init__(self):\n",
    "        with open(f'../{tfidf_vectorizer_model}', 'rb') as file:\n",
    "            self.tfidf_vectorizer = pickle.load(file)\n",
    "        with open(f'../{selector_model}', 'rb') as file:\n",
    "            self.selector = pickle.load(file)\n",
    "        with open(f'../{pca_model}', 'rb') as file:\n",
    "            self.pca = pickle.load(file)\n",
    "        with open(f'../{scaler_model}', 'rb') as file:\n",
    "            self.scaler = pickle.load(file)\n",
    "        with open(f'../{kmeans_model}', 'rb') as file:\n",
    "            self.kemans = pickle.load(file)\n",
    "        self.clean_text = clean_text\n",
    "        self.vectorize = vectorize\n",
    "        self.select_features = select_features\n",
    "        self.reduce_dimentions = reduce_dimentions\n",
    "        self.scale = scale\n",
    "        self.predict_kmeans = predict_kmeans\n",
    "\n",
    "\n",
    "    def transform(self, text):\n",
    "        # Clean text\n",
    "        text = self.clean_text(text)\n",
    "        # Vectorize\n",
    "        tfidf = self.vectorize(np.array([text]), self.tfidf_vectorizer)\n",
    "        # Feature selection\n",
    "        if use_feature_selection:\n",
    "            tfidf, _, _ = self.select_features(tfidf, self.tfidf_vectorizer.get_feature_names_out(), self.selector)\n",
    "        # PCA\n",
    "        tfidf = self.reduce_dimentions(tfidf, self.pca)\n",
    "        # Scale [0, 1]\n",
    "        tfidf = self.scale(tfidf, self.scaler)\n",
    "        # K-Means clusterization\n",
    "        tfidf = self.predict_kmeans(tfidf, self.kemans)\n",
    "\n",
    "\n",
    "    def transform_array(self, text):\n",
    "        # Clean text\n",
    "        text = text.apply(self.clean_text)\n",
    "        # Vectorize\n",
    "        tfidf = self.vectorize(text, self.tfidf_vectorizer)\n",
    "        # Feature selection\n",
    "        if use_feature_selection:\n",
    "            tfidf, _, _ = self.select_features(tfidf, self.tfidf_vectorizer.get_feature_names_out(), self.selector)\n",
    "        # PCA\n",
    "        tfidf = self.reduce_dimentions(tfidf, self.pca)\n",
    "        # Scale [0, 1]\n",
    "        tfidf = self.scale(tfidf, self.scaler)\n",
    "        # K-Means clusterization\n",
    "        tfidf = self.predict_kmeans(tfidf, self.kemans)\n",
    "\n",
    "        return tfidf"
   ]
  },
  {
   "cell_type": "code",
   "execution_count": 4,
   "metadata": {},
   "outputs": [],
   "source": [
    "preprocessor = Preprocessor()\n",
    "X_tfidf = preprocessor.transform_array(data['comment_text'])\n",
    "\n",
    "with open(f'../{preprocessor_model}', 'wb') as file:\n",
    "    pickle.dump(preprocessor, file)"
   ]
  },
  {
   "cell_type": "code",
   "execution_count": 5,
   "metadata": {},
   "outputs": [],
   "source": [
    "model = xgb.Booster()\n",
    "model.load_model(f'../{xgb_model}-v{xgb_model_version}.json')\n",
    "\n",
    "dtest = xgb.DMatrix(X_tfidf)\n",
    "y_pred = model.predict(dtest)\n",
    "\n",
    "y_pred = pd.DataFrame(y_pred, columns=label_names)\n",
    "submission_df = pd.concat([data[['id']], y_pred], axis=1)\n",
    "\n",
    "submission_df.to_csv(f'../{submission_file}', index=False)"
   ]
  },
  {
   "cell_type": "code",
   "execution_count": 6,
   "metadata": {},
   "outputs": [
    {
     "data": {
      "text/plain": [
       "(63978, 7)"
      ]
     },
     "execution_count": 6,
     "metadata": {},
     "output_type": "execute_result"
    }
   ],
   "source": [
    "submission_df.shape"
   ]
  },
  {
   "cell_type": "code",
   "execution_count": 7,
   "metadata": {},
   "outputs": [
    {
     "data": {
      "text/html": [
       "<div>\n",
       "<style scoped>\n",
       "    .dataframe tbody tr th:only-of-type {\n",
       "        vertical-align: middle;\n",
       "    }\n",
       "\n",
       "    .dataframe tbody tr th {\n",
       "        vertical-align: top;\n",
       "    }\n",
       "\n",
       "    .dataframe thead th {\n",
       "        text-align: right;\n",
       "    }\n",
       "</style>\n",
       "<table border=\"1\" class=\"dataframe\">\n",
       "  <thead>\n",
       "    <tr style=\"text-align: right;\">\n",
       "      <th></th>\n",
       "      <th>id</th>\n",
       "      <th>toxic</th>\n",
       "      <th>severe_toxic</th>\n",
       "      <th>obscene</th>\n",
       "      <th>threat</th>\n",
       "      <th>insult</th>\n",
       "      <th>identity_hate</th>\n",
       "    </tr>\n",
       "  </thead>\n",
       "  <tbody>\n",
       "    <tr>\n",
       "      <th>0</th>\n",
       "      <td>0001ea8717f6de06</td>\n",
       "      <td>0.056288</td>\n",
       "      <td>0.003286</td>\n",
       "      <td>0.014745</td>\n",
       "      <td>0.000110</td>\n",
       "      <td>0.053132</td>\n",
       "      <td>0.001079</td>\n",
       "    </tr>\n",
       "    <tr>\n",
       "      <th>1</th>\n",
       "      <td>000247e83dcc1211</td>\n",
       "      <td>0.287195</td>\n",
       "      <td>0.000650</td>\n",
       "      <td>0.029591</td>\n",
       "      <td>0.000443</td>\n",
       "      <td>0.057880</td>\n",
       "      <td>0.001350</td>\n",
       "    </tr>\n",
       "    <tr>\n",
       "      <th>2</th>\n",
       "      <td>0002f87b16116a7f</td>\n",
       "      <td>0.039273</td>\n",
       "      <td>0.000379</td>\n",
       "      <td>0.012417</td>\n",
       "      <td>0.000143</td>\n",
       "      <td>0.007752</td>\n",
       "      <td>0.003941</td>\n",
       "    </tr>\n",
       "    <tr>\n",
       "      <th>3</th>\n",
       "      <td>0003e1cccfd5a40a</td>\n",
       "      <td>0.009487</td>\n",
       "      <td>0.000096</td>\n",
       "      <td>0.003012</td>\n",
       "      <td>0.000018</td>\n",
       "      <td>0.002366</td>\n",
       "      <td>0.000519</td>\n",
       "    </tr>\n",
       "    <tr>\n",
       "      <th>4</th>\n",
       "      <td>00059ace3e3e9a53</td>\n",
       "      <td>0.001576</td>\n",
       "      <td>0.000044</td>\n",
       "      <td>0.000839</td>\n",
       "      <td>0.000042</td>\n",
       "      <td>0.002500</td>\n",
       "      <td>0.000158</td>\n",
       "    </tr>\n",
       "  </tbody>\n",
       "</table>\n",
       "</div>"
      ],
      "text/plain": [
       "                 id     toxic  severe_toxic   obscene    threat    insult  \\\n",
       "0  0001ea8717f6de06  0.056288      0.003286  0.014745  0.000110  0.053132   \n",
       "1  000247e83dcc1211  0.287195      0.000650  0.029591  0.000443  0.057880   \n",
       "2  0002f87b16116a7f  0.039273      0.000379  0.012417  0.000143  0.007752   \n",
       "3  0003e1cccfd5a40a  0.009487      0.000096  0.003012  0.000018  0.002366   \n",
       "4  00059ace3e3e9a53  0.001576      0.000044  0.000839  0.000042  0.002500   \n",
       "\n",
       "   identity_hate  \n",
       "0       0.001079  \n",
       "1       0.001350  \n",
       "2       0.003941  \n",
       "3       0.000519  \n",
       "4       0.000158  "
      ]
     },
     "execution_count": 7,
     "metadata": {},
     "output_type": "execute_result"
    }
   ],
   "source": [
    "\n",
    "submission_df.head(5)"
   ]
  }
 ],
 "metadata": {
  "kernelspec": {
   "display_name": ".venv",
   "language": "python",
   "name": "python3"
  },
  "language_info": {
   "codemirror_mode": {
    "name": "ipython",
    "version": 3
   },
   "file_extension": ".py",
   "mimetype": "text/x-python",
   "name": "python",
   "nbconvert_exporter": "python",
   "pygments_lexer": "ipython3",
   "version": "3.10.11"
  }
 },
 "nbformat": 4,
 "nbformat_minor": 2
}
