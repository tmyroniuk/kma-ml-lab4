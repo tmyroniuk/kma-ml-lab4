{
 "cells": [
  {
   "cell_type": "code",
   "execution_count": 1,
   "metadata": {},
   "outputs": [],
   "source": [
    "import pickle\n",
    "import sys\n",
    "\n",
    "import pandas as pd\n",
    "\n",
    "pd.set_option('display.max_colwidth', None)\n",
    "\n",
    "sys.path.append('../src/')\n",
    "from config import *\n",
    "from preprocessing import *"
   ]
  },
  {
   "cell_type": "code",
   "execution_count": 2,
   "metadata": {},
   "outputs": [],
   "source": [
    "# Load the dataset\n",
    "data = pd.read_csv(f'../{data_file}')\n",
    "\n",
    "# Filter special symbols, clean sample's text\n",
    "data['cleaned_text'] = data['comment_text'].apply(clean_text)"
   ]
  },
  {
   "cell_type": "code",
   "execution_count": 3,
   "metadata": {},
   "outputs": [
    {
     "name": "stdout",
     "output_type": "stream",
     "text": [
      "Length of tfidf vectors: 182231\n"
     ]
    }
   ],
   "source": [
    "# Convert text to vectors using TfIdfVectorizer\n",
    "X = data['cleaned_text']\n",
    "y = data[['toxic', 'severe_toxic', 'obscene', 'threat', 'insult', 'identity_hate']]\n",
    "\n",
    "# Vectorize\n",
    "X_tfidf, tfidf_vectorizer = fit_vectorize(X)\n",
    "\n",
    "with open(f'../{tfidf_vectorizer_model}', 'wb') as file:\n",
    "    pickle.dump(tfidf_vectorizer, file)\n",
    "\n",
    "n_features = X_tfidf.shape[1]\n",
    "\n",
    "print(f\"Length of tfidf vectors: {n_features}\")"
   ]
  },
  {
   "cell_type": "code",
   "execution_count": 4,
   "metadata": {},
   "outputs": [
    {
     "name": "stdout",
     "output_type": "stream",
     "text": [
      "Number of selected features: 9111\n"
     ]
    }
   ],
   "source": [
    "if use_feature_selection:\n",
    "    X_tfidf, selector, _, _ = fit_select_features(X_tfidf, y, tfidf_vectorizer.get_feature_names_out(), features_to_keep=features_to_keep)  \n",
    "\n",
    "    with open(f'../{selector_model}', 'wb') as file:\n",
    "        pickle.dump(selector, file)\n",
    "\n",
    "    n_features = X_tfidf.shape[1]\n",
    "\n",
    "    print(f\"Number of selected features: {n_features}\")\n",
    "\n",
    "with open(f'../{features_matrix_file}', 'wb') as file:\n",
    "    pickle.dump(X_tfidf, file)"
   ]
  },
  {
   "cell_type": "code",
   "execution_count": 7,
   "metadata": {},
   "outputs": [
    {
     "data": {
      "text/plain": [
       "<1x9111 sparse matrix of type '<class 'numpy.float64'>'\n",
       "\twith 28 stored elements in Compressed Sparse Row format>"
      ]
     },
     "execution_count": 7,
     "metadata": {},
     "output_type": "execute_result"
    }
   ],
   "source": [
    "X_tfidf[0]"
   ]
  }
 ],
 "metadata": {
  "kernelspec": {
   "display_name": ".venv",
   "language": "python",
   "name": "python3"
  },
  "language_info": {
   "codemirror_mode": {
    "name": "ipython",
    "version": 3
   },
   "file_extension": ".py",
   "mimetype": "text/x-python",
   "name": "python",
   "nbconvert_exporter": "python",
   "pygments_lexer": "ipython3",
   "version": "3.10.11"
  }
 },
 "nbformat": 4,
 "nbformat_minor": 2
}
