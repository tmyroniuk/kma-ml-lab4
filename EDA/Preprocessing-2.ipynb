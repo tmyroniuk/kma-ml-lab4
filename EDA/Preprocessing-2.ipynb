{
 "cells": [
  {
   "cell_type": "code",
   "execution_count": 1,
   "metadata": {},
   "outputs": [],
   "source": [
    "import pickle\n",
    "import sys\n",
    "\n",
    "import numpy as np\n",
    "import matplotlib.pyplot as plt\n",
    "\n",
    "sys.path.append('../src/')\n",
    "from config import *\n",
    "from preprocessing import *"
   ]
  },
  {
   "cell_type": "code",
   "execution_count": 2,
   "metadata": {},
   "outputs": [],
   "source": [
    "with open(f'../{features_matrix_file}', 'rb') as file:\n",
    "    X_tfidf = pickle.load(file)"
   ]
  },
  {
   "cell_type": "code",
   "execution_count": 3,
   "metadata": {},
   "outputs": [],
   "source": [
    "# Sample data to fit into ram\n",
    "num_rows = X_tfidf.shape[0]\n",
    "rows_to_remove = int(0.5 * X_tfidf.shape[0])\n",
    "\n",
    "# Generate random indices of rows to keep\n",
    "rows_to_keep = np.random.choice(num_rows, num_rows - rows_to_remove, replace=False)\n",
    "\n",
    "# Create a new sparse matrix with only the randomly selected rows\n",
    "X_tfidf_sampled = X_tfidf[rows_to_keep]"
   ]
  },
  {
   "cell_type": "code",
   "execution_count": 4,
   "metadata": {},
   "outputs": [],
   "source": [
    "pca = fit_reduce_dimentions(X_tfidf_sampled, n_components=varience_threshold)\n",
    "\n",
    "with open(f'../{pca_model}', 'wb') as file:\n",
    "    pickle.dump(pca, file)"
   ]
  },
  {
   "cell_type": "code",
   "execution_count": 5,
   "metadata": {},
   "outputs": [
    {
     "name": "stdout",
     "output_type": "stream",
     "text": [
      "(159571, 1465)\n"
     ]
    }
   ],
   "source": [
    "# Transform the data in batches\n",
    "batch_size = 10000\n",
    "pca_result = reduce_dimentions(X_tfidf, pca, batch_size)\n",
    "\n",
    "# Scale\n",
    "pca_result, scaler = fit_scale(pca_result)\n",
    "\n",
    "with open(f'../{scaler_model}', 'wb') as file:\n",
    "    pickle.dump(scaler, file)\n",
    "\n",
    "print(pca_result.shape)"
   ]
  },
  {
   "cell_type": "code",
   "execution_count": 6,
   "metadata": {},
   "outputs": [
    {
     "name": "stdout",
     "output_type": "stream",
     "text": [
      "\n",
      "Minimum Value:\n",
      "0.0\n",
      "\n",
      "Maximum Value:\n",
      "1.0000000000000002\n"
     ]
    }
   ],
   "source": [
    "# Compute the minimum and maximum values along each row\n",
    "min_values = pca_result.min(axis=1).flatten()\n",
    "max_values = pca_result.max(axis=1).flatten()\n",
    "\n",
    "print(\"\\nMinimum Value:\")\n",
    "print(np.min(min_values))\n",
    "\n",
    "print(\"\\nMaximum Value:\")\n",
    "print(np.max(max_values))"
   ]
  },
  {
   "cell_type": "code",
   "execution_count": 18,
   "metadata": {},
   "outputs": [],
   "source": [
    "kmeans = fit_kmeans(pca_result)\n",
    "pca_result = predict_kmeans(pca_result, kmeans)\n",
    "\n",
    "with open(f'../{kmeans_model}', 'wb') as file:\n",
    "    pickle.dump(kmeans, file)\n",
    "\n",
    "with open(f'../{pca_result_file}', 'wb') as file:\n",
    "    pickle.dump(pca_result, file)"
   ]
  },
  {
   "cell_type": "code",
   "execution_count": 19,
   "metadata": {},
   "outputs": [
    {
     "data": {
      "text/plain": [
       "array([[0.22071026, 0.34229468, 0.52777204, ..., 0.        , 0.        ,\n",
       "        0.        ],\n",
       "       [0.05846859, 0.36049994, 0.48409856, ..., 0.        , 0.        ,\n",
       "        0.        ],\n",
       "       [0.39271756, 0.3052704 , 0.42082939, ..., 0.        , 0.        ,\n",
       "        0.        ],\n",
       "       ...,\n",
       "       [0.07415262, 0.33890278, 0.45060301, ..., 0.        , 0.        ,\n",
       "        0.        ],\n",
       "       [0.49825255, 0.26730025, 0.34753957, ..., 0.        , 0.        ,\n",
       "        0.        ],\n",
       "       [0.23301694, 0.39825388, 0.26728281, ..., 0.        , 0.        ,\n",
       "        0.        ]])"
      ]
     },
     "execution_count": 19,
     "metadata": {},
     "output_type": "execute_result"
    }
   ],
   "source": [
    "pca_result"
   ]
  },
  {
   "cell_type": "code",
   "execution_count": null,
   "metadata": {},
   "outputs": [],
   "source": []
  }
 ],
 "metadata": {
  "kernelspec": {
   "display_name": ".venv",
   "language": "python",
   "name": "python3"
  },
  "language_info": {
   "codemirror_mode": {
    "name": "ipython",
    "version": 3
   },
   "file_extension": ".py",
   "mimetype": "text/x-python",
   "name": "python",
   "nbconvert_exporter": "python",
   "pygments_lexer": "ipython3",
   "version": "3.10.11"
  }
 },
 "nbformat": 4,
 "nbformat_minor": 2
}
